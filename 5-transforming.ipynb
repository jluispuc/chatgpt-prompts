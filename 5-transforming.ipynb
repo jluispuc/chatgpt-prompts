{
 "cells": [
  {
   "attachments": {},
   "cell_type": "markdown",
   "metadata": {},
   "source": [
    "# Transforming\n",
    "\n",
    "1. Traducir sentencias a un lenguaje específico con la posibilidad de indicar aspectos gramaticales.\n",
    "2. Transformas cierta sentencia para alguién específico, es posible querer envíar un mensaje a alguien y le pasemos ese mensaje al LLM e indicarle que tranforme ese mensaje a un mensaje que se pueda envíar por email.\n",
    "3. Indicarle al LLM que transforme una estructura de datos o una lista de elementos que puedan ser transformados a una estructura definida como HTML, JSON o una clase de POO con algún lenguaje de programación.\n",
    "5. Solicitar al LLM que revise una entrada de texto y si encuentra errores gramáticales que nos brinde una versión correcta.\n",
    "6. Solicitar al LLM que, por ejemplo, corrija un texto y lo transforme a una versión más formal como el estilo APA."
   ]
  }
 ],
 "metadata": {
  "language_info": {
   "name": "python"
  },
  "orig_nbformat": 4
 },
 "nbformat": 4,
 "nbformat_minor": 2
}
