{
 "cells": [
  {
   "attachments": {},
   "cell_type": "markdown",
   "metadata": {},
   "source": [
    "# Summarizing\n",
    "\n",
    "Podemos usar ChatGPT para obtener resúmenes de textos largos o cortos para un objetivo específico, por ejemplo ayudarle al departamento de ventas a obtener un resumén del feedback de los clientes.\n",
    "\n",
    "Tener en cuenta que podemos aplicar lo que se aprendido (Principios para dar indicaciones y la iteración) para obtener el resumén que deseamos."
   ]
  }
 ],
 "metadata": {
  "language_info": {
   "name": "python"
  },
  "orig_nbformat": 4
 },
 "nbformat": 4,
 "nbformat_minor": 2
}
