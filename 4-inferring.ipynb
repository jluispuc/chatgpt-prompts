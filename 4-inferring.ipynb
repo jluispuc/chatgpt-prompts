{
 "cells": [
  {
   "attachments": {},
   "cell_type": "markdown",
   "metadata": {},
   "source": [
    "# Inferring\n",
    "\n",
    "Si deseamos obtener ciertas etiquetas de un texto, como, posibles sentimientos en el texto, temas de los que se hablan, algún elemento en especial, como marcas u otras cosas es posible aplicando los prompts adecuados al LLM ChatGPT."
   ]
  }
 ],
 "metadata": {
  "language_info": {
   "name": "python"
  },
  "orig_nbformat": 4
 },
 "nbformat": 4,
 "nbformat_minor": 2
}
