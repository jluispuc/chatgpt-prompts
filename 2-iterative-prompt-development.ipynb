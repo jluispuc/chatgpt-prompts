{
 "cells": [
  {
   "attachments": {},
   "cell_type": "markdown",
   "metadata": {},
   "source": [
    "# Iterative Prompt Development\n",
    "Sería una sorpresa que después de entrenar un LLM funcione bien la primera vez, entonces, para lograr el objetivo que buscamos al solicitar a un modelo LLM ayuda para realizar nuestra tarea es bueno tener en mente:\n",
    "\n",
    "- Aplicar las mejores prácticas de prompt.\n",
    "- Analizar porque no obtenemos los resultados deseados.\n",
    "- Refinar la idea y el prompt.\n",
    "- Repetir."
   ]
  }
 ],
 "metadata": {
  "language_info": {
   "name": "python"
  },
  "orig_nbformat": 4
 },
 "nbformat": 4,
 "nbformat_minor": 2
}
